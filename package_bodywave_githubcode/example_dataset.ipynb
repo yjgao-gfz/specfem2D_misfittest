{
 "metadata": {
  "kernelspec": {
   "display_name": "Python 3",
   "language": "python",
   "name": "python3"
  },
  "language_info": {
   "codemirror_mode": {
    "name": "ipython",
    "version": 3
   },
   "file_extension": ".py",
   "mimetype": "text/x-python",
   "name": "python",
   "nbconvert_exporter": "python",
   "pygments_lexer": "ipython3",
   "version": "3.4.3"
  },
  "name": ""
 },
 "nbformat": 3,
 "nbformat_minor": 0,
 "worksheets": [
  {
   "cells": [
    {
     "cell_type": "markdown",
     "metadata": {},
     "source": [
      "\n",
      "# Example Data Set used in Pyadjoint\n",
      "\n",
      "This document illustrates where the example data used in Pyadjoint originates from. It uses a set of 3D synthetics from the Shakemovie project and the same event extraced from a 2 second Instaseis database with the AK135 Earth model. Thus we effectively compare the results of a 3D simulation including topography, ellipticity, ... versus a simulation on a 1D background model with a spherical Earth. We will compare data in a period band from 20 to 100 seconds.\n",
      "\n",
      "To establish a more practical terminology, the Shakemovie seismograms will serve as our observed data, whereas the ones from Instaseis will be considered synthetics.\n",
      "\n",
      "## Source and Receiver\n",
      "\n",
      "We use an event from the GCMT catalog:\n",
      "\n",
      "```\n",
      "Event name: 201411150231A\n",
      "CMT origin time: 2014-11-15T02:31:50.260000Z\n",
      "Assumed half duration:  8.2\n",
      "Mw = 7.0   Scalar Moment = 4.71e+19\n",
      "Latitude:  1.97\n",
      "Longitude: 126.42\n",
      "Depth in km: 37.3\n",
      "\n",
      "Exponent for moment tensor:  19    units: N-m\n",
      "         Mrr     Mtt     Mpp     Mrt     Mrp     Mtp\n",
      "CMT     3.970  -0.760  -3.210   0.173  -2.220  -1.970\n",
      "```\n",
      "\n",
      "recorded at station `SY.DBO` (`SY` denotes the synthetic data network from the Shakemovie project):\n",
      "\n",
      "```\n",
      "Latitude: 43.12, Longitude: -123.24, Elevation: 984.0 m\n",
      "```\n",
      "\n"
     ]
    },
    {
     "cell_type": "markdown",
     "metadata": {},
     "source": [
      "\n",
      "### Setup Variables\n",
      "\n",
      "Sets up some values we'll need throughout this document.\n",
      "\n"
     ]
    },
    {
     "cell_type": "code",
     "collapsed": false,
     "input": [
      "import obspy\n",
      "import numpy as np\n",
      "\n",
      "event_longitude = 126.42\n",
      "event_latitude = 1.97\n",
      "event_depth_in_km = 37.3\n",
      "\n",
      "station_longitude = -123.24\n",
      "station_latitude = 43.12\n",
      "\n",
      "max_period = 100.0\n",
      "min_period = 20.0\n",
      "\n",
      "cmt_time = obspy.UTCDateTime(2014, 11, 15, 2, 31, 50.26)\n",
      "\n",
      "# Desired properties after the data processing.\n",
      "sampling_rate = 1.0\n",
      "npts = 3600"
     ],
     "language": "python",
     "metadata": {},
     "outputs": [],
     "prompt_number": null
    },
    {
     "cell_type": "markdown",
     "metadata": {},
     "source": [
      "\n",
      "### Map of Source and Receiver\n",
      "\n"
     ]
    },
    {
     "cell_type": "code",
     "collapsed": false,
     "input": [
      "import matplotlib.pyplot as plt\n",
      "plt.style.use(\"ggplot\")\n",
      "from mpl_toolkits.basemap import Basemap\n",
      "\n",
      "plt.figure(figsize=(12, 6))\n",
      "\n",
      "# Equal area mollweide projection.\n",
      "m = Basemap(projection=\"moll\", lon_0=180.0, resolution=\"c\")\n",
      "m.drawmapboundary(fill_color=\"#cccccc\")\n",
      "m.fillcontinents(color=\"white\", lake_color=\"#cccccc\", zorder=0)\n",
      "\n",
      "m.drawgreatcircle(event_longitude, event_latitude, station_longitude,\n",
      "                  station_latitude, lw=2, color=\"green\")\n",
      "m.scatter(event_longitude, event_latitude, color=\"red\", s=500, marker=\"*\",\n",
      "          latlon=True, zorder=5)\n",
      "m.scatter(station_longitude, station_latitude, color=\"blue\", s=400, marker=\"v\",\n",
      "          latlon=True, zorder=5)\n",
      "plt.show()"
     ],
     "language": "python",
     "metadata": {},
     "outputs": [],
     "prompt_number": null
    },
    {
     "cell_type": "markdown",
     "metadata": {},
     "source": [
      "\n",
      "## Data\n",
      "\n",
      "*\"Raw\"* data.\n",
      "\n"
     ]
    },
    {
     "cell_type": "code",
     "collapsed": false,
     "input": [
      "shakemovie_data = obspy.read(\"../src/pyadjoint/example_data/shakemovie_data.mseed\")\n",
      "instaseis_data = obspy.read(\"../src/pyadjoint/example_data/instaseis_data.mseed\")\n",
      "\n",
      "print(shakemovie_data)\n",
      "print(instaseis_data)"
     ],
     "language": "python",
     "metadata": {},
     "outputs": [],
     "prompt_number": null
    },
    {
     "cell_type": "markdown",
     "metadata": {},
     "source": [
      "\n",
      "## Data Processing\n",
      "\n",
      "Both data and synthetics are processed to have similar spectral content and to ensure they are sampled at the same points in time. The processing applied is similar to the typical preprocessing workflow applied to data in full waveform inversions using adjoint techniques. This example lacks instrument removal as both data samples are synthetics.\n",
      "\n"
     ]
    },
    {
     "cell_type": "code",
     "collapsed": false,
     "input": [
      "from obspy.signal.invsim import c_sac_taper\n",
      "from obspy.core.util.geodetics import gps2DistAzimuth\n",
      "\n",
      "f2 = 1.0 / max_period\n",
      "f3 = 1.0 / min_period\n",
      "f1 = 0.8 * f2\n",
      "f4 = 1.2 * f3\n",
      "pre_filt = (f1, f2, f3, f4)\n",
      "\n",
      "def process_function(st):\n",
      "    st.detrend(\"linear\")\n",
      "    st.detrend(\"demean\")\n",
      "    st.taper(max_percentage=0.05, type=\"hann\")\n",
      "\n",
      "    # Perform a frequency domain taper like during the response removal\n",
      "    # just without an actual response...\n",
      "    for tr in st:\n",
      "        data = tr.data.astype(np.float64)\n",
      "\n",
      "        # smart calculation of nfft dodging large primes\n",
      "        from obspy.signal.util import _npts2nfft\n",
      "        nfft = _npts2nfft(len(data))\n",
      "\n",
      "        fy = 1.0 / (tr.stats.delta * 2.0)\n",
      "        freqs = np.linspace(0, fy, nfft // 2 + 1)\n",
      "\n",
      "        # Transform data to Frequency domain\n",
      "        data = np.fft.rfft(data, n=nfft)\n",
      "        data *= c_sac_taper(freqs, flimit=pre_filt)\n",
      "        data[-1] = abs(data[-1]) + 0.0j\n",
      "        # transform data back into the time domain\n",
      "        data = np.fft.irfft(data)[0:len(data)]\n",
      "        # assign processed data and store processing information\n",
      "        tr.data = data\n",
      "\n",
      "    st.detrend(\"linear\")\n",
      "    st.detrend(\"demean\")\n",
      "    st.taper(max_percentage=0.05, type=\"hann\")\n",
      "\n",
      "    st.interpolate(sampling_rate=sampling_rate, starttime=cmt_time,\n",
      "                   npts=npts)\n",
      "\n",
      "    _, baz, _ = gps2DistAzimuth(station_latitude, station_longitude,\n",
      "                                event_latitude, event_longitude)\n",
      "\n",
      "    components = [tr.stats.channel[-1] for tr in st]\n",
      "    if \"N\" in components and \"E\" in components:\n",
      "        st.rotate(method=\"NE->RT\", back_azimuth=baz)\n",
      "\n",
      "    return st"
     ],
     "language": "python",
     "metadata": {},
     "outputs": [],
     "prompt_number": null
    },
    {
     "cell_type": "code",
     "collapsed": false,
     "input": [
      "# From now one we will refer to them as observed data and synthetics.\n",
      "observed = process_function(shakemovie_data.copy())\n",
      "synthetic = process_function(instaseis_data.copy())\n",
      "\n",
      "print(observed)\n",
      "print(synthetic)"
     ],
     "language": "python",
     "metadata": {},
     "outputs": [],
     "prompt_number": null
    },
    {
     "cell_type": "markdown",
     "metadata": {},
     "source": [
      "\n",
      "## Data Plots\n",
      "\n",
      "We first define a function to plot both data sets.\n",
      "\n"
     ]
    },
    {
     "cell_type": "code",
     "collapsed": false,
     "input": [
      "from obspy.core.util import geodetics\n",
      "from obspy.taup import getTravelTimes\n",
      "\n",
      "def plot_data(start=0, end=1.0 / sampling_rate * npts, show_tts=False):\n",
      "    start, end = int(start), int(end)\n",
      "    plt.figure(figsize=(12, 6))\n",
      "    plt.subplot(311)\n",
      "\n",
      "    obs_z = observed.select(component=\"Z\")[0]\n",
      "    syn_z = synthetic.select(component=\"Z\")[0]\n",
      "    obs_r = observed.select(component=\"R\")[0]\n",
      "    syn_r = synthetic.select(component=\"R\")[0]\n",
      "    obs_t = observed.select(component=\"T\")[0]\n",
      "    syn_t = synthetic.select(component=\"T\")[0]\n",
      "    \n",
      "    y_range = [obs_z.data[start: end].min(), obs_z.data[start: end].max(),\n",
      "               syn_z.data[start: end].min(), syn_z.data[start: end].max(),\n",
      "               obs_r.data[start: end].min(), obs_r.data[start: end].max(),\n",
      "               syn_r.data[start: end].min(), syn_r.data[start: end].max(),\n",
      "               obs_t.data[start: end].min(), obs_t.data[start: end].max(),\n",
      "               syn_t.data[start: end].min(), syn_t.data[start: end].max()]\n",
      "    y_range = max(map(abs, y_range))\n",
      "    y_range *= 1.1\n",
      "    \n",
      "    dist_in_deg = geodetics.locations2degrees(\n",
      "        station_latitude, station_longitude,\n",
      "        event_latitude, event_longitude)\n",
      "    tts = getTravelTimes(dist_in_deg, event_depth_in_km, model=\"ak135\")\n",
      "    x_range = end - start\n",
      "    tts = [_i for _i in tts\n",
      "           if (start + 0.05 * x_range) < _i[\"time\"] < (end - 0.05 * x_range)]\n",
      "    \n",
      "    def plot_tts():\n",
      "        for _i, tt in enumerate(tts):\n",
      "            f = 1 if _i % 2 else -1\n",
      "            va = \"top\" if f is 1 else \"bottom\"\n",
      "            plt.text(tt[\"time\"], f * y_range * 0.96, tt[\"phase_name\"],\n",
      "                     color=\"0.2\", ha=\"center\", va=va, weight=\"900\",\n",
      "                     fontsize=8)\n",
      "    \n",
      "    plt.plot(obs_z.times(), obs_z.data, color=\"black\", label=\"observed\")\n",
      "    plt.plot(syn_z.times(), syn_z.data, color=\"red\", label=\"synthetic\")\n",
      "    plt.legend(loc=\"lower left\")\n",
      "    if show_tts:\n",
      "        plot_tts()\n",
      "    plt.xlim(start, end)\n",
      "    plt.ylim(-y_range, y_range)\n",
      "    plt.ylabel(\"Displacement in m\")\n",
      "    plt.title(\"Vertical component\")\n",
      "\n",
      "\n",
      "    plt.subplot(312)\n",
      "    plt.plot(obs_r.times(), obs_r.data, color=\"black\", label=\"observed\")\n",
      "    plt.plot(syn_r.times(), syn_r.data, color=\"red\", label=\"synthetic\")\n",
      "    plt.legend(loc=\"lower left\")\n",
      "    if show_tts:\n",
      "        plot_tts()\n",
      "    plt.xlim(start, end)\n",
      "    plt.ylim(-y_range, y_range)\n",
      "    plt.ylabel(\"Displacement in m\")\n",
      "    plt.title(\"Radial component\")\n",
      "\n",
      "    plt.subplot(313)\n",
      "\n",
      "    plt.plot(obs_t.times(), obs_t.data, color=\"black\", label=\"observed\")\n",
      "    plt.plot(syn_t.times(), syn_t.data, color=\"red\", label=\"synthetic\")\n",
      "    plt.legend(loc=\"lower left\")\n",
      "    if show_tts:\n",
      "        plot_tts()\n",
      "    plt.ylabel(\"Displacement in m\")\n",
      "    plt.xlim(start, end)\n",
      "    plt.ylim(-y_range, y_range)\n",
      "    plt.xlabel(\"Seconds since event\")\n",
      "    plt.title(\"Transverse component\")\n",
      "\n",
      "    plt.tight_layout()\n",
      "\n",
      "    plt.show();"
     ],
     "language": "python",
     "metadata": {},
     "outputs": [],
     "prompt_number": null
    },
    {
     "cell_type": "markdown",
     "metadata": {},
     "source": [
      "\n",
      "### Plot of All Data\n",
      "\n"
     ]
    },
    {
     "cell_type": "code",
     "collapsed": false,
     "input": [
      "plot_data()"
     ],
     "language": "python",
     "metadata": {},
     "outputs": [],
     "prompt_number": null
    },
    {
     "cell_type": "markdown",
     "metadata": {},
     "source": [
      "\n",
      "### Plot of First Arrivals\n",
      "\n"
     ]
    },
    {
     "cell_type": "code",
     "collapsed": false,
     "input": [
      "plot_data(700, 1200, show_tts=True)"
     ],
     "language": "python",
     "metadata": {},
     "outputs": [],
     "prompt_number": null
    },
    {
     "cell_type": "markdown",
     "metadata": {},
     "source": [
      "\n",
      "### Plot of Some Later Arrivals\n",
      "\n"
     ]
    },
    {
     "cell_type": "code",
     "collapsed": false,
     "input": [
      "plot_data(1400, 1900, show_tts=True)"
     ],
     "language": "python",
     "metadata": {},
     "outputs": [],
     "prompt_number": null
    },
    {
     "cell_type": "code",
     "collapsed": false,
     "input": [
      "plot_data(2000, 3000, show_tts=True)"
     ],
     "language": "python",
     "metadata": {},
     "outputs": [],
     "prompt_number": null
    }
   ],
   "metadata": {}
  }
 ]
}