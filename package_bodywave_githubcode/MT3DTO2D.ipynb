{
 "cells": [
  {
   "cell_type": "code",
   "execution_count": 1,
   "metadata": {},
   "outputs": [],
   "source": [
    "####this script is intended to estimate the mxx mxz and mzz for 2d model\n",
    "####the functions below is from the codes of Cuda_finitedifference\n",
    "\n",
    "import numpy as np\n",
    "import matplotlib.pyplot as plt\n",
    "\n",
    "\n"
   ]
  },
  {
   "cell_type": "code",
   "execution_count": 2,
   "metadata": {},
   "outputs": [
    {
     "ename": "IndentationError",
     "evalue": "unexpected indent (<ipython-input-2-eed37b8472e3>, line 12)",
     "output_type": "error",
     "traceback": [
      "\u001b[0;36m  File \u001b[0;32m\"<ipython-input-2-eed37b8472e3>\"\u001b[0;36m, line \u001b[0;32m12\u001b[0m\n\u001b[0;31m    int ixs,izs;\u001b[0m\n\u001b[0m    ^\u001b[0m\n\u001b[0;31mIndentationError\u001b[0m\u001b[0;31m:\u001b[0m unexpected indent\n"
     ]
    }
   ],
   "source": [
    "\n",
    "#float delta=param.dip*PI/180.0;\n",
    "#float lambda=param.rake*PI/180.0;\n",
    "#float phi=(param.strike-param.azimuth)*PI/180.0;\n",
    "\n",
    "#float Mxx = -( sin(delta)*cos(lambda)*sin(2.0*phi) + \n",
    "#  sin(2.0*delta)*sin(lambda)*sin(phi)*sin(phi) );\n",
    "\n",
    "#  float Mxz = -( cos(delta)*cos(lambda)*cos(phi) + \n",
    "#\t  cos(2.0*delta)*sin(lambda)*sin(phi) );\n",
    "#  float Mzz = sin(2.0*delta)*sin(lambda);\n",
    "\n",
    "  int ixs,izs;\n",
    "\n",
    "  float factor=1.0/PI/1.4142135623731/(param.h*param.h);\n",
    "  Mxx *= factor;\n",
    "  Mxz *= factor;\n",
    "  Mzz *= factor;"
   ]
  },
  {
   "cell_type": "code",
   "execution_count": 10,
   "metadata": {},
   "outputs": [],
   "source": [
    "\n",
    "\n",
    "\n",
    "def DC_MT(strike,dip,rake,az):\n",
    "    phi = np.deg2rad(strike-az)\n",
    "    delta1 = np.deg2rad(dip)\n",
    "    lambd = np.deg2rad(rake)\n",
    "    #az= np.deg2rad(az)\n",
    "    #mxx=mtt\n",
    "    m_tt = (- np.sin(delta1) * np.cos(lambd) * np.sin(2. * phi) \\\n",
    "            -np.sin(2. * delta1) * np.sin(phi)**2. * np.sin(lambd)) \n",
    "    #m_pp = (np.sin(delta1) * np.cos(lambd) * np.sin(2. * phi) \\\n",
    "    #        - np.sin(2. * delta1) * np.cos(phi)**2. * np.sin(lambd)) \n",
    "    m_rr = (np.sin(2. * delta1) * np.sin(lambd)) \n",
    "    #m_rp = (- np.cos(phi) * np.sin(lambd) * np.cos(2. * delta1) \\\n",
    "    #        + np.cos(delta1) * np.cos(lambd) * np.sin(phi)) \n",
    "    m_rt = (- np.sin(lambd) * np.sin(phi) * np.cos(2. * delta1) \\\n",
    "            - np.cos(delta1) * np.cos(lambd) * np.cos(phi)) \n",
    "    #m_tp = (- np.sin(delta1) * np.cos(lambd) * np.cos(2. * phi)\\\n",
    "    #        - np.sin(2. * delta1) * np.sin(2. * phi) * np.sin(lambd) / 2.)\n",
    "    PI=np.pi\n",
    "    return m_rr,m_tt,m_rt\n",
    "\n"
   ]
  },
  {
   "cell_type": "code",
   "execution_count": 12,
   "metadata": {},
   "outputs": [
    {
     "data": {
      "text/plain": [
       "(0.0, 2.1265768495757713e-17, -6.030208312509488e-17)"
      ]
     },
     "execution_count": 12,
     "metadata": {},
     "output_type": "execute_result"
    }
   ],
   "source": [
    "DC_MT(0,10,0,90)"
   ]
  },
  {
   "cell_type": "code",
   "execution_count": null,
   "metadata": {},
   "outputs": [],
   "source": []
  }
 ],
 "metadata": {
  "kernelspec": {
   "display_name": "Python 3",
   "language": "python",
   "name": "python3"
  },
  "language_info": {
   "codemirror_mode": {
    "name": "ipython",
    "version": 3
   },
   "file_extension": ".py",
   "mimetype": "text/x-python",
   "name": "python",
   "nbconvert_exporter": "python",
   "pygments_lexer": "ipython3",
   "version": "3.7.8"
  }
 },
 "nbformat": 4,
 "nbformat_minor": 2
}
