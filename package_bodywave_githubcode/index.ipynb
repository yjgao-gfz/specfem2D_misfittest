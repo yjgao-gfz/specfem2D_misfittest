{
 "cells": [
  {
   "cell_type": "markdown",
   "metadata": {},
   "source": [
    "\n",
    "# Pyadjoint\n",
    "\n",
    "`Pyadjoint` is a Python package to measure misfits and calculate adjoint sources. It aims to provide a comprehensive package and incorporate various types of measurements and associated adjoint sources.\n",
    "\n",
    "## Installation\n",
    "\n",
    "`Pyadjoint` utilizes [ObsPy](http://obspy.org) (and some of its dependencies) for the processing and data handling. As a first step, please follow the [installation instructions of ObsPy](https://github.com/obspy/obspy/wiki#installation) for your given platform (we recommend the installation with [Anaconda](https://github.com/obspy/obspy/wiki/Installation-via-Anaconda) as it will most likely result in the least amount of problems). `Pyadjoint` should work with Python versions 2.7, 3.4, and 3.5. To install it, best use `pip` (not working yet!):\n",
    "\n",
    "```bash\n",
    "$ pip install pyadjoint\n",
    "```\n",
    "\n",
    "If you want the latest development version, or want to work on the code, you will have to install with the help of `git`.\n",
    "\n",
    "```bash\n",
    "$ git clone https://github.com/krischer/pyadjoint.git\n",
    "$ cd pyadjoint\n",
    "$ pip install -v -e .\n",
    "```\n",
    "\n",
    "## Tests\n",
    "\n",
    "To assure the installation is valid and everything works as expected, run the tests with\n",
    "\n",
    "```bash\n",
    "$ python -m pyadjoint.tests\n",
    "```\n",
    "\n",
    "## Usage\n",
    "\n",
    "### Basic Usage\n",
    "\n",
    "The first step is to import ObsPy and `Pyadjoint`."
   ]
  },
  {
   "cell_type": "code",
   "execution_count": 1,
   "metadata": {
    "collapsed": false
   },
   "outputs": [],
   "source": [
    "import obspy\n",
    "import pyadjoint"
   ]
  },
  {
   "cell_type": "markdown",
   "metadata": {},
   "source": [
    "\n",
    "`Pyadjoint` expects the data to be fully preprocessed thus both observed and synthetic data are expected to have exactly the same length, sampling rate, and spectral content. `Pyadjoint` furthermore does not care about the actual components in question; it will use two traces and calculate misfit values and adjoint sources for them. To provide a familiar nomenclature we will always talk about observed and synthetic data `Pyadjoint` is independent of what the data actually represents.\n",
    "\n"
   ]
  },
  {
   "cell_type": "code",
   "execution_count": 2,
   "metadata": {
    "collapsed": false
   },
   "outputs": [],
   "source": [
    "# Helper function to get some example data used for\n",
    "# illustrative purposes.\n",
    "obs, syn = pyadjoint.utils.get_example_data()\n",
    "# Select the vertical components of both.\n",
    "obs = obs.select(component=\"Z\")[0]\n",
    "syn = syn.select(component=\"Z\")[0]"
   ]
  },
  {
   "cell_type": "raw",
   "metadata": {},
   "source": [
    "\n",
    "Essentially all of ``Pyadjoint``'s functionality is accessed through its central :func:`~pyadjoint.adjoint_source.calculate_adjoint_source` function. A list of available\n",
    "adjoint source types can be found in :doc:`adjoint_sources/index`.\n",
    "\n"
   ]
  },
  {
   "cell_type": "code",
   "execution_count": null,
   "metadata": {
    "collapsed": false
   },
   "outputs": [],
   "source": [
    "adj_src = pyadjoint.calculate_adjoint_source(\n",
    "    # The type of misfit measurement and adjoint source.\n",
    "    adj_src_type=\"waveform_misfit\",\n",
    "    # Pass observed and synthetic data traces.\n",
    "    observed=obs, synthetic=syn,\n",
    "    # The spectral content of the data.\n",
    "    min_period=20.0, max_period=100.0,\n",
    "    # The window borders in seconds since the first sample.\n",
    "    left_window_border=800.0,\n",
    "    right_window_border=900.0)\n",
    "print(adj_src)"
   ]
  },
  {
   "cell_type": "raw",
   "metadata": {},
   "source": [
    "\n",
    "It returns an :class:`~pyadjoint.adjoint_source.AdjointSource` object.\n",
    "\n"
   ]
  },
  {
   "cell_type": "code",
   "execution_count": null,
   "metadata": {
    "collapsed": false
   },
   "outputs": [],
   "source": [
    "# Access misfit and adjoint sources. The misfit is a floating point number.\n",
    "print(adj_src.misfit)\n",
    "# The adjoint source is a a numpy array.\n",
    "print(adj_src.adjoint_source)"
   ]
  },
  {
   "cell_type": "markdown",
   "metadata": {},
   "source": [
    "\n",
    "### Usage Options\n",
    "\n",
    "In case one just wants to calculate the misfit value, pass `adjoint_src=False` in which case the adjoint source will not be calculated. This sometimes is much faster and useful for line searches or similar endeavors.\n",
    "\n"
   ]
  },
  {
   "cell_type": "code",
   "execution_count": null,
   "metadata": {
    "collapsed": false
   },
   "outputs": [],
   "source": [
    "print(pyadjoint.calculate_adjoint_source(\n",
    "    adj_src_type=\"waveform_misfit\", observed=obs, synthetic=syn,\n",
    "    min_period=20.0, max_period=100.0,\n",
    "    left_window_border=800.0, right_window_border=900.0, adjoint_src=False))"
   ]
  },
  {
   "cell_type": "markdown",
   "metadata": {},
   "source": [
    "\n",
    "All adjoint source types can also be plotted during the calculation. The type of plot produced depends on the type of misfit measurement and adjoint source.\n",
    "\n"
   ]
  },
  {
   "cell_type": "code",
   "execution_count": null,
   "metadata": {
    "collapsed": false
   },
   "outputs": [],
   "source": [
    "pyadjoint.calculate_adjoint_source(\n",
    "    adj_src_type=\"waveform_misfit\", observed=obs, synthetic=syn,\n",
    "    min_period=20.0, max_period=100.0,\n",
    "    left_window_border=800.0, right_window_border=900.0, plot=True);"
   ]
  },
  {
   "cell_type": "raw",
   "metadata": {},
   "source": [
    "\n",
    "Many types of adjoint sources have additional arguments that can be passed to it. The waveform misfit adjoint source for example allows to specifiy the width and type of the taper applied to the data. Please see the documentation of the different :doc:`adjoint_sources/index` for details.\n",
    "\n"
   ]
  },
  {
   "cell_type": "code",
   "execution_count": null,
   "metadata": {
    "collapsed": false
   },
   "outputs": [],
   "source": [
    "print(pyadjoint.calculate_adjoint_source(\n",
    "    adj_src_type=\"waveform_misfit\", observed=obs, synthetic=syn,\n",
    "    min_period=20.0, max_period=100.0,\n",
    "    left_window_border=800.0, right_window_border=900.0,\n",
    "    taper_percentage=0.3, taper_type=\"cosine\"))"
   ]
  },
  {
   "cell_type": "markdown",
   "metadata": {},
   "source": [
    "\n",
    "### Saving to Disc\n",
    "\n"
   ]
  },
  {
   "cell_type": "raw",
   "metadata": {},
   "source": [
    "\n",
    "One of course wants to serialize the calculated adjoint sources to disc at one point in time. You need to pass the filename and the desired format as well as some format specific parameters to the :meth:`~pyadjoint.adjoint_source.AdjointSource.write` method of the :class:`~pyadjoint.adjoint_source.AdjointSource` object. Instead of a filename you can also pass an open file or a file-like object. Please refer to its documentation for more details.\n",
    "\n"
   ]
  },
  {
   "cell_type": "code",
   "execution_count": null,
   "metadata": {
    "collapsed": false
   },
   "outputs": [],
   "source": [
    "adj_src.write(filename=\"NET.STA.CHA.adj_src\",\n",
    "              format=\"SPECFEM\", time_offset=-10)"
   ]
  },
  {
   "cell_type": "code",
   "execution_count": null,
   "metadata": {
    "collapsed": false
   },
   "outputs": [],
   "source": [
    "!head NET.STA.CHA.adj_src\n",
    "!rm NET.STA.CHA.adj_src"
   ]
  },
  {
   "cell_type": "raw",
   "metadata": {},
   "source": [
    "\n",
    "Detailed Documentation\n",
    "----------------------\n",
    "\n",
    "Further Pages\n",
    "~~~~~~~~~~~~~\n",
    "\n",
    "\n",
    ".. toctree::\n",
    "    :maxdepth: 2\n",
    "\n",
    "    adjoint_sources/index\n",
    "    example_dataset\n",
    "    citations\n",
    "    how_to_add_a_new_adjoint_source\n",
    "    \n",
    "\n",
    "\n",
    "API\n",
    "~~~\n",
    "\n",
    ".. toctree::\n",
    "    :maxdepth: 2\n",
    "    \n",
    "    adjoint_source\n",
    "    utils\n",
    "\n"
   ]
  },
  {
   "cell_type": "code",
   "execution_count": null,
   "metadata": {
    "collapsed": false
   },
   "outputs": [],
   "source": []
  }
 ],
 "metadata": {
  "kernelspec": {
   "display_name": "Python 3",
   "language": "python",
   "name": "python3"
  },
  "language_info": {
   "codemirror_mode": {
    "name": "ipython",
    "version": 3
   },
   "file_extension": ".py",
   "mimetype": "text/x-python",
   "name": "python",
   "nbconvert_exporter": "python",
   "pygments_lexer": "ipython3",
   "version": "3.5.1"
  }
 },
 "nbformat": 4,
 "nbformat_minor": 0
}
